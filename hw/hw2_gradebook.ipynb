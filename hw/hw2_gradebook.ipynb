{
 "cells": [
  {
   "cell_type": "code",
   "execution_count": 8,
   "id": "37f32f8c-58aa-4584-b5f9-da8fee9be3a5",
   "metadata": {},
   "outputs": [
    {
     "name": "stdout",
     "output_type": "stream",
     "text": [
      "[['Physics', 98], ['Calculus', 97], ['Poetry', 85], ['History', 88]]\n",
      "[['Physics', 98], ['Calculus', 97], ['Poetry', 85], ['History', 88], ['Computer Science', 100], ['Visual Arts', 93]]\n",
      "[['Physics', 98], ['Calculus', 97], ['History', 88], ['Computer Science', 100], ['Visual Arts', 93], ['Poetry', 'Pass']]\n",
      "[['politics', 80], ['latin', 96], ['dance', 97], ['architecture', 65], ['Physics', 98], ['Calculus', 97], ['History', 88], ['Computer Science', 100], ['Visual Arts', 93], ['Poetry', 'Pass']]\n"
     ]
    }
   ],
   "source": [
    "subjects = [\"physics\", \"calculus\", \"poetry\", \"history\"]\n",
    "grades = [98, 97, 85, 88]\n",
    "gradebook = [[\"Physics\", 98], [\"Calculus\", 97], [\"Poetry\", 85], [\"History\", 88]]\n",
    "print(gradebook)\n",
    "\n",
    "gradebook.append([\"Computer Science\", 100])\n",
    "gradebook.append([\"Visual Arts\", 93])\n",
    "print(gradebook)\n",
    "\n",
    "gradebook.remove([\"Poetry\", 85])\n",
    "gradebook.append([\"Poetry\", \"Pass\"])\n",
    "print(gradebook)\n",
    "\n",
    "last_semester_gradebook = [[\"politics\", 80], [\"latin\", 96], [\"dance\", 97], [\"architecture\", 65]]\n",
    "\n",
    "full_gradebook = last_semester_gradebook + gradebook\n",
    "print(full_gradebook)"
   ]
  }
 ],
 "metadata": {
  "kernelspec": {
   "display_name": "Python 3",
   "language": "python",
   "name": "python3"
  },
  "language_info": {
   "codemirror_mode": {
    "name": "ipython",
    "version": 3
   },
   "file_extension": ".py",
   "mimetype": "text/x-python",
   "name": "python",
   "nbconvert_exporter": "python",
   "pygments_lexer": "ipython3",
   "version": "3.8.8"
  }
 },
 "nbformat": 4,
 "nbformat_minor": 5
}
