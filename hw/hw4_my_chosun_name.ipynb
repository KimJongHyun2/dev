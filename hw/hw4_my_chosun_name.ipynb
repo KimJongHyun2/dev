{
 "cells": [
  {
   "cell_type": "code",
   "execution_count": 89,
   "id": "2f7cde3e-6cf3-4482-86ab-9ebea110fd8e",
   "metadata": {},
   "outputs": [
    {
     "name": "stdout",
     "output_type": "stream",
     "text": [
      "['쌍', '쇠', '복', '돌', '팽', '육', '쌍', '개', '칠', '갑', '삼', '방']\n",
      "['봉', '구', '욕', '포', '똥', '삼', '식', '석', '놈', '님', '년', '돌', '단', '득', '방', '질', '장', '걸', '래', '룡', '동', '순', '자', '박', '창', '언', '것', '포', '만', '단', '국']\n",
      "당신의 조선시대 이름은 김방박 입니다\n"
     ]
    }
   ],
   "source": [
    "\"\"\"\n",
    "hw4_my_chosun_name\n",
    "\"\"\"\n",
    "month_list = ['쌍', '쇠', '복', '돌', '팽', '육', '쌍', '개', '칠', '갑', '삼', '방']\n",
    "print(month_list)\n",
    "\n",
    "day_list = ['봉', '구', '욕', '포', '똥', '삼', '식', '석', '놈', '님', '년', '돌', '단', '득', '방', '질', \n",
    "       '장', '걸','래', '룡', '동', '순', '자', '박', '창', '언', '것', '포', '만', '단', '국']\n",
    "print(day_list)\n",
    "\n",
    "def get_my_chosun_name(family_name, month, day): # parameter\n",
    "    print(\"당신의 조선시대 이름은 %s%s%s\" %(family_name, month_list[month-1], day_list[day-1]),\"입니다\") # argument\n",
    "get_my_chosun_name('김', 12, 24)\n",
    "\n",
    "#생각해보면 정말 간단했는데 month로만 해야겠다 생각하여 month_list를 만들기까지 굉장히 오래 걸렸습니다. 열심히 했습니다."
   ]
  }
 ],
 "metadata": {
  "kernelspec": {
   "display_name": "Python 3",
   "language": "python",
   "name": "python3"
  },
  "language_info": {
   "codemirror_mode": {
    "name": "ipython",
    "version": 3
   },
   "file_extension": ".py",
   "mimetype": "text/x-python",
   "name": "python",
   "nbconvert_exporter": "python",
   "pygments_lexer": "ipython3",
   "version": "3.8.8"
  }
 },
 "nbformat": 4,
 "nbformat_minor": 5
}
