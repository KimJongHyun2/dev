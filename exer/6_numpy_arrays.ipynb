{
 "cells": [
  {
   "cell_type": "code",
   "execution_count": 2,
   "id": "dd54f00d-e48a-4e57-a880-63edbbabf5f8",
   "metadata": {},
   "outputs": [],
   "source": [
    "import numpy as np\n",
    "import pandas as pd\n",
    "from matplotlib import pyplot as plt"
   ]
  },
  {
   "cell_type": "code",
   "execution_count": 10,
   "id": "842535ee-3588-4aff-abdb-b4afbb97b102",
   "metadata": {},
   "outputs": [
    {
     "name": "stdout",
     "output_type": "stream",
     "text": [
      "[1 2 3 4]\n",
      "<class 'numpy.ndarray'>\n"
     ]
    }
   ],
   "source": [
    "# Creating a Numpy Array\n",
    "\n",
    "lst = [1, 2, 3, 4]\n",
    "arr = np.array(lst)\n",
    "print(arr)\n",
    "print(type(arr))"
   ]
  },
  {
   "cell_type": "code",
   "execution_count": 14,
   "id": "51c9ff00-4047-41d7-b739-0bd126f6ad03",
   "metadata": {},
   "outputs": [
    {
     "name": "stdout",
     "output_type": "stream",
     "text": [
      "float64\n",
      "<U32\n"
     ]
    }
   ],
   "source": [
    "# .dtype attribute\n",
    "print(arr.dtype)\n",
    "lst = [1, 1.4, \"1.1, 1.2, 2.5\"]\n",
    "arr = np.array(lst)\n",
    "print(arr.dtype)                      "
   ]
  },
  {
   "cell_type": "code",
   "execution_count": 18,
   "id": "b55a67bb-7588-4b8c-9f0c-0c8ac2f1161b",
   "metadata": {},
   "outputs": [
    {
     "name": "stdout",
     "output_type": "stream",
     "text": [
      "168\n",
      "160\n"
     ]
    }
   ],
   "source": [
    "\"\"\"\n",
    "Size compartion of ndarray and list objects\n",
    "\"\"\"\n",
    "#메모리 크기 비교\n",
    "from sys import getsizeof\n",
    "lst = [1, 2, 3, 4, 5, 6, 7, 8, 9, 10, 11, 12, 13, 14] #1일때 56 > 64 (8bite 증가)\n",
    "print(getsizeof(lst))\n",
    "\n",
    "arr = np.array([1, 2, 3, 4, 5, 6, 7, 8, 9, 10, 11, 12, 13, 14]) #1일때 96 > 100 (4bite 증가)\n",
    "print(getsizeof(arr))"
   ]
  },
  {
   "cell_type": "code",
   "execution_count": 42,
   "id": "4d7165d0-9c7d-4428-9ab8-8e1956d2d1df",
   "metadata": {},
   "outputs": [
    {
     "name": "stdout",
     "output_type": "stream",
     "text": [
      "[25, 20, 35, 15, 30, 45, 30]\n"
     ]
    }
   ],
   "source": [
    "\"\"\"\n",
    "Operations with Numpy Arrays\n",
    "\"\"\"\n",
    "\n",
    "prices = [30, 25, 40, 20, 35, 50, 35]\n",
    "price_arr = np.array(prices)\n",
    "# With a list\n",
    "new_prices = [price - 5 for price in prices]\n",
    "print(new_prices)"
   ]
  },
  {
   "cell_type": "code",
   "execution_count": 43,
   "id": "550416df-32b0-4a3b-93ec-f3c4e515cd0c",
   "metadata": {},
   "outputs": [
    {
     "name": "stdout",
     "output_type": "stream",
     "text": [
      "[89 87 74 92 94]\n",
      "[260 281 248 276 272]\n",
      "[86.66666667 93.66666667 82.66666667 92.         90.66666667]\n",
      "[[ 92  94  88  91  87]\n",
      " [ 79 100  86  93  91]\n",
      " [ 89  87  74  92  94]]\n",
      "93\n",
      "[94 88]\n",
      "[87 91 94]\n"
     ]
    }
   ],
   "source": [
    "\"\"\"\n",
    "Exercise_test score\n",
    "\"\"\"\n",
    "\n",
    "test_1 = np.array([92, 94, 88, 91, 87])\n",
    "test_2 = np.array([79, 100, 86, 93, 91])\n",
    "test_3 = np.array([87, 85, 72, 90, 92])\n",
    "\n",
    "test_3_fixed = test_3 + 2\n",
    "print(test_3_fixed)\n",
    "\n",
    "total_grade = test_1 + test_2 + test_3_fixed\n",
    "print(total_grade)\n",
    "\n",
    "final_grade = total_grade / 3\n",
    "print(final_grade)\n",
    "\n",
    "student_scores = np.array([test_1, test_2, test_3_fixed])\n",
    "print(student_scores)\n",
    "\n",
    "jeremy_test_2 = student_scores[1, 3]\n",
    "print(jeremy_test_2)\n",
    "\n",
    "manual_adowa_test_1 = np.array([student_scores[0, 1], student_scores[0, 2]])\n",
    "print(manual_adowa_test_1)\n",
    "\n",
    "print(student_scores[:,4])\n",
    "                                \n",
    "                        "
   ]
  },
  {
   "cell_type": "code",
   "execution_count": 44,
   "id": "9f5256aa-f62a-484f-91b6-82f5336ac590",
   "metadata": {},
   "outputs": [
    {
     "name": "stdout",
     "output_type": "stream",
     "text": [
      "[ True False False False False False  True  True False  True]\n",
      "[10  9  8  7]\n",
      "[10  2  2  3  9  8  7]\n",
      "[10  2  2  4  5  3  9  8  5  7]\n"
     ]
    }
   ],
   "source": [
    "\"\"\"\n",
    "Logical Operations with Arrays\n",
    "\"\"\"\n",
    "\n",
    "#masking\n",
    "a = np.array([10, 2, 2, 4, 5, 3, 9, 8, 5, 7])\n",
    "mask = a > 5\n",
    "print(mask)\n",
    "\n",
    "# Selected using logical operations\n",
    "selected = a[a > 5]\n",
    "print(selected)\n",
    "\n",
    "# combined Logical operaitons\n",
    "\n",
    "selected = a[(a > 5) | (a < 4)]\n",
    "print(selected)\n",
    "\n",
    "selected = a[(a > 4) | (a < 6)]\n",
    "print(selected)"
   ]
  }
 ],
 "metadata": {
  "kernelspec": {
   "display_name": "Python 3",
   "language": "python",
   "name": "python3"
  },
  "language_info": {
   "codemirror_mode": {
    "name": "ipython",
    "version": 3
   },
   "file_extension": ".py",
   "mimetype": "text/x-python",
   "name": "python",
   "nbconvert_exporter": "python",
   "pygments_lexer": "ipython3",
   "version": "3.8.8"
  }
 },
 "nbformat": 4,
 "nbformat_minor": 5
}
