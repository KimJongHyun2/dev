{
 "cells": [
  {
   "cell_type": "code",
   "execution_count": 4,
   "id": "5bd1a0cd-9f96-47b1-82af-7bd0774d9ebf",
   "metadata": {},
   "outputs": [
    {
     "name": "stdout",
     "output_type": "stream",
     "text": [
      "<class 'bool'>\n",
      "<class 'str'>\n"
     ]
    }
   ],
   "source": [
    "is_tested = True\n",
    "print(type(is_tested)) # 변수가 어떤 데이터 타입인지를 알려주는 함수\n",
    "\n",
    "a = \"3.14\"\n",
    "print(type(a))"
   ]
  },
  {
   "cell_type": "code",
   "execution_count": 32,
   "id": "20009e17-79e2-4de8-825b-e34d62b691f1",
   "metadata": {},
   "outputs": [
    {
     "name": "stdout",
     "output_type": "stream",
     "text": [
      "True\n",
      "True\n",
      "False\n"
     ]
    }
   ],
   "source": [
    "#1\n",
    "print(\"Yes\" == 'Yes')\n",
    "\n",
    "#2\n",
    "print((2 > 1) == (5 < 10))\n",
    "\n",
    "#3\n",
    "c = '2'\n",
    "d = 2\n",
    "print(c == d)"
   ]
  },
  {
   "cell_type": "code",
   "execution_count": 11,
   "id": "dd149f25-1860-4b2e-9e6a-aaacc69eaac1",
   "metadata": {},
   "outputs": [
    {
     "data": {
      "text/plain": [
       "False"
      ]
     },
     "execution_count": 11,
     "metadata": {},
     "output_type": "execute_result"
    }
   ],
   "source": [
    "chr = 'a'\n",
    "a = 97\n",
    "chr == a\n",
    "# ASCII코드와 상관없이 False로 나온다. "
   ]
  },
  {
   "cell_type": "code",
   "execution_count": 29,
   "id": "0443d6c5-bdab-4370-934b-6555d239f5c8",
   "metadata": {},
   "outputs": [
    {
     "data": {
      "text/plain": [
       "True"
      ]
     },
     "execution_count": 29,
     "metadata": {},
     "output_type": "execute_result"
    }
   ],
   "source": [
    "True or True \n",
    "True or False \n",
    "False or False\n",
    "1 < 2 or 3 < 1\n",
    "3 < 1 or 1 > 6\n",
    "1 == 1 or 1 < 2\n",
    "# TTFTFT\n"
   ]
  },
  {
   "cell_type": "code",
   "execution_count": 34,
   "id": "10a5cb02-9c1b-45fd-89f9-8620cee2b1b9",
   "metadata": {},
   "outputs": [
    {
     "data": {
      "text/plain": [
       "False"
      ]
     },
     "execution_count": 34,
     "metadata": {},
     "output_type": "execute_result"
    }
   ],
   "source": [
    "not True\n",
    "not False\n",
    "not 1 > 2\n",
    "not 1 == 1 "
   ]
  },
  {
   "cell_type": "code",
   "execution_count": 41,
   "id": "76d59be5-98c1-4d25-8d10-9b331ff11c4d",
   "metadata": {},
   "outputs": [
    {
     "name": "stdout",
     "output_type": "stream",
     "text": [
      "말티즈 맞아요.\n",
      "말티즈 새끼에요.\n",
      "True\n"
     ]
    }
   ],
   "source": [
    "\"\"\"\n",
    "conditional statements\n",
    "\"\"\"\n",
    "\n",
    "puppy = \"maltese\"\n",
    "age = 1\n",
    "is_yes = False\n",
    "\n",
    "if puppy == \"maltese\":\n",
    "    is_yes = True\n",
    "    print(\"말티즈 맞아요.\")\n",
    "    if age < 3:\n",
    "        print(\"말티즈 새끼에요.\")\n",
    "\n",
    "elif puppy == \"poodle\":\n",
    "    is_yes = True\n",
    "    print(\"푸들 맞아요.\")\n",
    "\n",
    "else :\n",
    "    print(\"아! 말티푸구나.\")\n",
    "    is_yes = True\n",
    "    \n",
    "print(is_yes)\n",
    "\n",
    "# 처음에 if 그 다음 elif 이것도 아니고 저것도 아닐때 최종적으로 else\n"
   ]
  },
  {
   "cell_type": "code",
   "execution_count": 48,
   "id": "e150b57f-62ab-4896-8ec6-f1465ba80073",
   "metadata": {},
   "outputs": [
    {
     "name": "stdout",
     "output_type": "stream",
     "text": [
      "[Error]\n",
      "continue...\n"
     ]
    }
   ],
   "source": [
    "\"Exception Handing\"\n",
    "\n",
    "x = 1\n",
    "\n",
    "try:\n",
    "    print(y)\n",
    "    print(x)\n",
    "except:\n",
    "    print('[Error]')\n",
    "\n",
    "print(\"continue...\")\n",
    "# 에러가 발생하면 프로그램이 종료되어 뒤의 문장이 실행이 안된다.\n",
    "# try, except를 사용하면 빠져나와 다음 문장들을 실행 시킬 수 있다."
   ]
  }
 ],
 "metadata": {
  "kernelspec": {
   "display_name": "Python 3",
   "language": "python",
   "name": "python3"
  },
  "language_info": {
   "codemirror_mode": {
    "name": "ipython",
    "version": 3
   },
   "file_extension": ".py",
   "mimetype": "text/x-python",
   "name": "python",
   "nbconvert_exporter": "python",
   "pygments_lexer": "ipython3",
   "version": "3.8.8"
  }
 },
 "nbformat": 4,
 "nbformat_minor": 5
}
