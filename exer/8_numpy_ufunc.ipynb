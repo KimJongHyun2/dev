{
 "cells": [
  {
   "cell_type": "code",
   "execution_count": 3,
   "id": "a2baf4af-5b92-4b49-9d93-d85d5698f455",
   "metadata": {},
   "outputs": [],
   "source": [
    "import numpy as np"
   ]
  },
  {
   "cell_type": "code",
   "execution_count": 4,
   "id": "9865b925-1777-4b11-b5f5-0bca42a18bc0",
   "metadata": {},
   "outputs": [
    {
     "name": "stdout",
     "output_type": "stream",
     "text": [
      "[6 6 6 7 8]\n"
     ]
    },
    {
     "data": {
      "text/plain": [
       "array([0.16666667, 0.16666667, 0.16666667, 0.14285714, 0.125     ])"
      ]
     },
     "execution_count": 4,
     "metadata": {},
     "output_type": "execute_result"
    }
   ],
   "source": [
    "\"\"\"\n",
    "Computiong reciprocals in loops\n",
    "\"\"\"\n",
    "\n",
    "def compute_reciprocals(values):\n",
    "    output = np.empty(len(values))\n",
    "    for i in range(len(values)):\n",
    "        output[i] = 1.0 / values[i]\n",
    "    return output\n",
    "\n",
    "values = np.random.randint(1, 10, size = 5)\n",
    "print(values)\n",
    "\n",
    "compute_reciprocals(values)"
   ]
  },
  {
   "cell_type": "code",
   "execution_count": 11,
   "id": "f00d30e2-029c-400c-b65f-ca7c6b731086",
   "metadata": {},
   "outputs": [
    {
     "name": "stdout",
     "output_type": "stream",
     "text": [
      "1.75 s ± 11.9 ms per loop (mean ± std. dev. of 7 runs, 1 loop each)\n"
     ]
    }
   ],
   "source": [
    "\"\"\"\n",
    "Comprarison: Loop vs ufuncs(vectorized)\n",
    "\"\"\"\n",
    "\n",
    "big_array = np.random.randint(1, 100, size=1000000)\n",
    "\n",
    "# Looping on a big array\n",
    "%timeit compute_reciprocals(big_array)\n",
    "\n",
    "# magic function (e, g., %timeit)"
   ]
  },
  {
   "cell_type": "code",
   "execution_count": 14,
   "id": "ff4fc3e7-cb5d-423f-8421-86441764d62c",
   "metadata": {},
   "outputs": [
    {
     "name": "stdout",
     "output_type": "stream",
     "text": [
      "1.74 ms ± 5.29 µs per loop (mean ± std. dev. of 7 runs, 1000 loops each)\n"
     ]
    }
   ],
   "source": [
    "# Vectorized operations\n",
    "%timeit 1 / big_array"
   ]
  },
  {
   "cell_type": "code",
   "execution_count": 19,
   "id": "ba302845-1ef0-4194-8736-916cbe9f1e9d",
   "metadata": {},
   "outputs": [
    {
     "name": "stdout",
     "output_type": "stream",
     "text": [
      "[5 8 9 5 0] [0 1 7 6 9]\n",
      "[ 3  6  7  3 -2]\n",
      "[ 3  7 14  9  7]\n",
      "[[2 4 5 2 4]\n",
      " [2 4 7 7 9]\n",
      " [1 7 0 6 9]]\n",
      "[[ 4 16 25  4 16]\n",
      " [ 4 16 49 49 81]\n",
      " [ 1 49  0 36 81]]\n"
     ]
    }
   ],
   "source": [
    "\"\"\"\n",
    "numpy.ufunc\n",
    "\"\"\"\n",
    "\n",
    "np.random.seed(1)\n",
    "arr1 = np.random.randint(10, size=(5))\n",
    "arr2 = np.random.randint(10, size=(5))\n",
    "print(arr1, arr2)\n",
    "\n",
    "arr1 = arr1 - 2\n",
    "print(arr1)\n",
    "\n",
    "arr3 = arr1 + arr2\n",
    "print(arr3)\n",
    "\n",
    "arr4 = np.random.randint(10, size=(3,5))\n",
    "print(arr4)\n",
    "\n",
    "arr5 = arr4 ** 2\n",
    "print(arr5)\n"
   ]
  },
  {
   "cell_type": "code",
   "execution_count": 63,
   "id": "3773b00b-7657-42e7-a206-323d52a413b7",
   "metadata": {},
   "outputs": [
    {
     "name": "stdout",
     "output_type": "stream",
     "text": [
      "x     = [0 1 2 3]\n",
      "x + 5 = [5 6 7 8]\n",
      "x - 5 = [-5 -4 -3 -2]\n",
      "x * 5 = [ 0  5 10 15]\n",
      "x / 5 = [0.  0.2 0.4 0.6]\n",
      "x ** 5 = [  0   1  32 243]\n"
     ]
    }
   ],
   "source": [
    "\"\"\"\n",
    "UFuncs: Array Arithemtic\n",
    "\"\"\"\n",
    "\n",
    "x = np.arange(4)\n",
    "print(\"x     =\", x)\n",
    "print(\"x + 5 =\", x + 5)\n",
    "print(\"x - 5 =\", x - 5)\n",
    "print(\"x * 5 =\", x * 5)\n",
    "print(\"x / 5 =\", x / 5)\n",
    "print(\"x ** 5 =\", x ** 5)"
   ]
  },
  {
   "cell_type": "code",
   "execution_count": 23,
   "id": "3369e08f-bb28-4a51-bee1-0a96bf8d7288",
   "metadata": {},
   "outputs": [
    {
     "name": "stdout",
     "output_type": "stream",
     "text": [
      "[2 1 0 1 2]\n",
      "[5. 5. 2. 1.]\n"
     ]
    }
   ],
   "source": [
    "\"\"\"\n",
    "UFuncs: Absolute Value\n",
    "\"\"\"\n",
    "\n",
    "x = np.array([-2, -1, 0, 1, 2])\n",
    "print(np.abs(x))\n",
    "\n",
    "x = np.array([3-4j, 4-3j, 2+0j, 0+1j])\n",
    "print(np.abs(x))"
   ]
  },
  {
   "cell_type": "code",
   "execution_count": 27,
   "id": "a76bfd14-a22a-47d3-87cf-71f60b867a4c",
   "metadata": {},
   "outputs": [
    {
     "name": "stdout",
     "output_type": "stream",
     "text": [
      "[0.         1.57079633 3.14159265]\n",
      "[0.0000000e+00 1.0000000e+00 1.2246468e-16]\n",
      "[ 1.000000e+00  6.123234e-17 -1.000000e+00]\n",
      "[ 0.00000000e+00  1.63312394e+16 -1.22464680e-16]\n"
     ]
    }
   ],
   "source": [
    "\"\"\"\n",
    "UFuncs: Trigonomeric Funcitons\n",
    "\"\"\"\n",
    "\n",
    "theta = np.linspace(0, np.pi, 3)\n",
    "print(theta)\n",
    "\n",
    "print(np.sin(theta))\n",
    "print(np.cos(theta))\n",
    "print(np.tan(theta))"
   ]
  },
  {
   "cell_type": "code",
   "execution_count": 45,
   "id": "2af0e51e-f5f6-4d6e-95e5-107399687257",
   "metadata": {},
   "outputs": [
    {
     "name": "stdout",
     "output_type": "stream",
     "text": [
      "[1 2 3 4]\n",
      "10\n",
      "24\n"
     ]
    }
   ],
   "source": [
    "\"\"\"\n",
    "UFuncs: Aggregation\n",
    "\"\"\"\n",
    "\n",
    "x = np.arange(1, 5)\n",
    "print(x)\n",
    "\n",
    "aggr = np.add.reduce(x)\n",
    "print(aggr)\n",
    "\n",
    "aggr = np.multiply.reduce(x)\n",
    "print(aggr)"
   ]
  },
  {
   "cell_type": "code",
   "execution_count": 48,
   "id": "b33e1c63-2955-497c-9e40-8d89395e2fa5",
   "metadata": {},
   "outputs": [
    {
     "name": "stdout",
     "output_type": "stream",
     "text": [
      "[ 1  2  3  4  5  6  7  8  9 10 11 12 13 14]\n",
      "[         1          2          6         24        120        720\n",
      "       5040      40320     362880    3628800   39916800  479001600\n",
      " 1932053504 1278945280]\n"
     ]
    }
   ],
   "source": [
    "# accumulat()\n",
    "\n",
    "x = np.arange(1, 15)\n",
    "print(x)\n",
    "\n",
    "accum = np.multiply.accumulate(x)\n",
    "print(accum)\n"
   ]
  },
  {
   "cell_type": "code",
   "execution_count": 51,
   "id": "1686aab5-b7ff-4997-98d7-50274ad29ba3",
   "metadata": {},
   "outputs": [
    {
     "name": "stdout",
     "output_type": "stream",
     "text": [
      "[0.4359949  0.02592623 0.54966248 ... 0.78483191 0.00778062 0.42442656]\n",
      "sum = 499468.5166853333\n",
      "77.7 ms ± 1.6 ms per loop (mean ± std. dev. of 7 runs, 10 loops each)\n"
     ]
    }
   ],
   "source": [
    "# Summing the Values in an Array\n",
    "\n",
    "np.random.seed(2)\n",
    "arr = np.random.rand(1000000) # rand(): create 0~1 real values\n",
    "\n",
    "print(arr)\n",
    "print('sum =', np.sum(arr))\n",
    "\n",
    "%timeit sum(arr)"
   ]
  },
  {
   "cell_type": "code",
   "execution_count": 53,
   "id": "f85125dc-2a32-406d-8c1d-0958a50673a6",
   "metadata": {},
   "outputs": [
    {
     "name": "stdout",
     "output_type": "stream",
     "text": [
      "301 µs ± 3.74 µs per loop (mean ± std. dev. of 7 runs, 1000 loops each)\n"
     ]
    }
   ],
   "source": [
    "%timeit np.sum(arr)"
   ]
  },
  {
   "cell_type": "code",
   "execution_count": 57,
   "id": "1fdf59be-f9fd-4670-bda3-9cb245abe971",
   "metadata": {},
   "outputs": [
    {
     "name": "stdout",
     "output_type": "stream",
     "text": [
      "max = 0.9999976661165695\n",
      "min = 9.475783189216713e-07\n",
      "mean = 0.49946851668533326\n",
      "median = 0.49948650836352526\n",
      "percentile = 0.9004310892470595\n",
      "False\n",
      "True\n"
     ]
    }
   ],
   "source": [
    "# Other Aggr. functions\n",
    "print(\"max =\", np.max(arr))\n",
    "print(\"min =\", np.min(arr))\n",
    "print(\"mean =\", np.mean(arr))\n",
    "print(\"median =\", np.median(arr))\n",
    "print(\"percentile =\", np.percentile(arr, 90))\n",
    "print(np.any(arr>1))\n",
    "print(np.all(arr>0))"
   ]
  },
  {
   "cell_type": "code",
   "execution_count": 61,
   "id": "7719871b-f474-428a-b7a5-f23892a682b0",
   "metadata": {},
   "outputs": [
    {
     "name": "stdout",
     "output_type": "stream",
     "text": [
      "[[3 6 6 0]\n",
      " [9 8 4 7]\n",
      " [0 0 7 1]]\n",
      "[15 28  8]\n"
     ]
    }
   ],
   "source": [
    "# Multi dimensioal aggregates\n",
    "\n",
    "np.random.seed(5)\n",
    "\n",
    "arr = np.random.randint(10, size=(3,4))\n",
    "print(arr)\n",
    "\n",
    "print(np.sum(arr, axis=1))"
   ]
  }
 ],
 "metadata": {
  "kernelspec": {
   "display_name": "Python 3",
   "language": "python",
   "name": "python3"
  },
  "language_info": {
   "codemirror_mode": {
    "name": "ipython",
    "version": 3
   },
   "file_extension": ".py",
   "mimetype": "text/x-python",
   "name": "python",
   "nbconvert_exporter": "python",
   "pygments_lexer": "ipython3",
   "version": "3.8.8"
  }
 },
 "nbformat": 4,
 "nbformat_minor": 5
}
