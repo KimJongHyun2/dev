{
 "cells": [
  {
   "cell_type": "code",
   "execution_count": 2,
   "metadata": {},
   "outputs": [],
   "source": [
    "# pip install requests"
   ]
  },
  {
   "cell_type": "code",
   "execution_count": 3,
   "metadata": {},
   "outputs": [],
   "source": [
    "# pip install beautifulsoup4"
   ]
  },
  {
   "cell_type": "code",
   "execution_count": null,
   "metadata": {},
   "outputs": [],
   "source": [
    "\"\"\"\n",
    "Exercise 1: Search '메타버스' news on Naver\n",
    "\"\"\"\n",
    "# HTTP Request\n",
    "import requests\n",
    "\n",
    "url = 'https://search.naver.com/search.naver?where=nexearch&sm=top_hty&fbm=0&ie=utf8&query=%EB%A9%94%ED%83%80%EB%B2%84%EC%8A%A4'\n",
    "res = requests.get(url)  # HTTP GET Request\n",
    "\n",
    "html_doc = res.text      # get texts from the HTML response result\n",
    "\n",
    "print(html_doc)"
   ]
  },
  {
   "cell_type": "code",
   "execution_count": null,
   "metadata": {},
   "outputs": [],
   "source": [
    "\"\"\"\n",
    "Use BeautifulSoup Parser\n",
    "\"\"\"\n",
    "\n",
    "from bs4 import BeautifulSoup\n",
    "# html, xml, lxml,\n",
    "# Create a parser\n",
    "soup = BeautifulSoup(html_doc, 'html.parser')\n",
    "print(soup.prettify())  # structuring the tags"
   ]
  },
  {
   "cell_type": "code",
   "execution_count": 3,
   "metadata": {},
   "outputs": [],
   "source": [
    "# Search all the <a> tags\n",
    "\n",
    "soup.find_all('a')"
   ]
  },
  {
   "cell_type": "code",
   "execution_count": null,
   "metadata": {},
   "outputs": [],
   "source": [
    "# Extract news information\n",
    "\n",
    "news = soup.find_all(\"a\", {\"class\":\"news_tit\"})\n",
    "print(news)"
   ]
  },
  {
   "cell_type": "code",
   "execution_count": 5,
   "metadata": {},
   "outputs": [
    {
     "data": {
      "text/plain": [
       "<a class=\"news_tit\" href=\"http://www.fnnews.com/news/202112011635386588\" onclick=\"return goOtherCR(this, 'a=nws_all*h.tit&amp;r=1&amp;i=880000FF_000000000000000004748879&amp;g=014.0004748879&amp;u='+urlencode(this.href));\" target=\"_blank\" title='신세계 아카데미 \"메타버스·코딩 알려드려요\"'>신세계 아카데미 \"<mark>메타버스</mark>·코딩 알려드려요\"</a>"
      ]
     },
     "execution_count": 5,
     "metadata": {},
     "output_type": "execute_result"
    }
   ],
   "source": [
    "# First news\n",
    "news[0]"
   ]
  },
  {
   "cell_type": "code",
   "execution_count": 6,
   "metadata": {},
   "outputs": [
    {
     "data": {
      "text/plain": [
       "'http://www.fnnews.com/news/202112011635386588'"
      ]
     },
     "execution_count": 6,
     "metadata": {},
     "output_type": "execute_result"
    }
   ],
   "source": [
    "# Get a url of the first news\n",
    "news[0].get('href')"
   ]
  },
  {
   "cell_type": "code",
   "execution_count": 7,
   "metadata": {},
   "outputs": [
    {
     "data": {
      "text/plain": [
       "'신세계 아카데미 \"메타버스·코딩 알려드려요\"'"
      ]
     },
     "execution_count": 7,
     "metadata": {},
     "output_type": "execute_result"
    }
   ],
   "source": [
    "# Get a title\n",
    "news[0].get('title')"
   ]
  },
  {
   "cell_type": "code",
   "execution_count": 8,
   "metadata": {},
   "outputs": [
    {
     "data": {
      "text/plain": [
       "4"
      ]
     },
     "execution_count": 8,
     "metadata": {},
     "output_type": "execute_result"
    }
   ],
   "source": [
    "len(news)"
   ]
  },
  {
   "cell_type": "code",
   "execution_count": 9,
   "metadata": {},
   "outputs": [
    {
     "name": "stdout",
     "output_type": "stream",
     "text": [
      "신세계 아카데미 \"메타버스·코딩 알려드려요\"\n",
      "경북도 \"메타버스 융합산업 클러스터 2개 조성\"\n",
      "[줌인]넥스트 메타버스는 ‘아크버스’…현실·가상을 연결하다\n",
      "흑역사 열리나… 추억의 ‘싸이월드’ 17일 메타버스와 함께 돌아온다\n"
     ]
    }
   ],
   "source": [
    "for i in range(len(news)):\n",
    "    print(news[i].get('title'))"
   ]
  },
  {
   "cell_type": "code",
   "execution_count": 10,
   "metadata": {},
   "outputs": [],
   "source": [
    "\"\"\"\n",
    "Exercise 2: Investing.com\n",
    "\"\"\"\n",
    "import requests\n",
    "url = 'https://www.investing.com/equities/tesla-motors'\n",
    "\n",
    "res = requests.get(url)\n",
    "html_doc = res.text"
   ]
  },
  {
   "cell_type": "code",
   "execution_count": null,
   "metadata": {},
   "outputs": [],
   "source": [
    "from bs4 import BeautifulSoup\n",
    "soup = BeautifulSoup(html_doc, 'html.parser')\n",
    "print(soup.prettify())  # structuring the tags"
   ]
  },
  {
   "cell_type": "code",
   "execution_count": 12,
   "metadata": {},
   "outputs": [
    {
     "name": "stdout",
     "output_type": "stream",
     "text": [
      "[<dt>Prev. Close</dt>, <dt>Day's Range</dt>, <dt>Revenue</dt>, <dt>Open</dt>, <dt>52 wk Range</dt>, <dt>EPS</dt>, <dt>Volume</dt>, <dt>Market Cap</dt>, <dt>Dividend (Yield)</dt>, <dt>Average Vol. (3m)</dt>, <dt>P/E Ratio</dt>, <dt>Beta</dt>, <dt>1-Year Change</dt>, <dt>Shares Outstanding</dt>, <dt>Next Earnings Date</dt>]\n"
     ]
    }
   ],
   "source": [
    "keys = soup.find_all('dt')\n",
    "print(keys)"
   ]
  },
  {
   "cell_type": "code",
   "execution_count": 13,
   "metadata": {},
   "outputs": [
    {
     "name": "stdout",
     "output_type": "stream",
     "text": [
      "[<span class=\"key-info_dd-numeric__2cYjc\"><span>1,144.76</span><span></span></span>, <span class=\"key-info_dd-numeric__2cYjc\"><span>1,090.76</span><span></span></span>, <span class=\"key-info_dd-numeric__2cYjc\"><span>1,172.84</span><span></span></span>, <span class=\"key-info_dd-numeric__2cYjc\"><span>46.85</span><span>B</span></span>, <span class=\"key-info_dd-numeric__2cYjc\"><span>1,160.69</span><span></span></span>, <span class=\"key-info_dd-numeric__2cYjc\"><span>539.49</span><span></span></span>, <span class=\"key-info_dd-numeric__2cYjc\"><span>1,243.49</span><span></span></span>, <span class=\"key-info_dd-numeric__2cYjc\"><span>3.08</span><span></span></span>, <span class=\"key-info_dd-numeric__2cYjc\"><span>22,500,809</span><span></span></span>, <span class=\"key-info_dd-numeric__2cYjc\"><span>1.1</span><span>T</span></span>, <span class=\"key-info_dd-numeric__2cYjc\"><span>24,761,515</span><span></span></span>, <span class=\"key-info_dd-numeric__2cYjc\"><span>371.47</span><span></span></span>, <span class=\"key-info_dd-numeric__2cYjc\"><span>2.04</span><span></span></span>, <span class=\"key-info_dd-numeric__2cYjc\"><span>87.26</span><span>%</span></span>, <span class=\"key-info_dd-numeric__2cYjc\"><span>1,006,419,424</span><span></span></span>]\n"
     ]
    }
   ],
   "source": [
    "vals = soup.find_all('span', {'class': 'key-info_dd-numeric__2cYjc'})\n",
    "print(vals)"
   ]
  },
  {
   "cell_type": "code",
   "execution_count": 14,
   "metadata": {},
   "outputs": [
    {
     "name": "stdout",
     "output_type": "stream",
     "text": [
      "Prev. Close = 1,144.76\n",
      "Day's Range = 1,090.76\n",
      "Revenue = 1,172.84\n",
      "Open = 46.85B\n",
      "52 wk Range = 1,160.69\n",
      "EPS = 539.49\n",
      "Volume = 1,243.49\n",
      "Market Cap = 3.08\n",
      "Dividend (Yield) = 22,500,809\n",
      "Average Vol. (3m) = 1.1T\n",
      "P/E Ratio = 24,761,515\n",
      "Beta = 371.47\n",
      "1-Year Change = 2.04\n",
      "Shares Outstanding = 87.26%\n",
      "Next Earnings Date = 1,006,419,424\n"
     ]
    }
   ],
   "source": [
    "for i in range(len(vals)):\n",
    "    print(keys[i].get_text(), '=', vals[i].get_text())"
   ]
  }
 ],
 "metadata": {
  "kernelspec": {
   "display_name": "Python 3",
   "language": "python",
   "name": "python3"
  },
  "language_info": {
   "codemirror_mode": {
    "name": "ipython",
    "version": 3
   },
   "file_extension": ".py",
   "mimetype": "text/x-python",
   "name": "python",
   "nbconvert_exporter": "python",
   "pygments_lexer": "ipython3",
   "version": "3.8.8"
  }
 },
 "nbformat": 4,
 "nbformat_minor": 4
}
