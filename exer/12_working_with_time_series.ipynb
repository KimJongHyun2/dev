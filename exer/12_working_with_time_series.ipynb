{
 "cells": [
  {
   "cell_type": "code",
   "execution_count": 8,
   "id": "a978b0e1-4dc1-46c9-8dbd-d0069bf37202",
   "metadata": {},
   "outputs": [
    {
     "data": {
      "text/plain": [
       "datetime.datetime(2021, 10, 27, 0, 0)"
      ]
     },
     "execution_count": 8,
     "metadata": {},
     "output_type": "execute_result"
    }
   ],
   "source": [
    "from datetime import datetime\n",
    "datetime(year=2021, month=10, day=27)"
   ]
  },
  {
   "cell_type": "code",
   "execution_count": 10,
   "id": "033da69f-3eb9-4b1a-addd-5f9f637da548",
   "metadata": {},
   "outputs": [
    {
     "name": "stdout",
     "output_type": "stream",
     "text": [
      "2021-10-28 00:00:00\n"
     ]
    }
   ],
   "source": [
    "from dateutil import parser\n",
    "date = parser.parse(\"28th of October, 2021\")\n",
    "print(date)"
   ]
  },
  {
   "cell_type": "code",
   "execution_count": 9,
   "id": "6475fe68-a5fc-43ed-a8e9-e0fa3c5d5027",
   "metadata": {},
   "outputs": [
    {
     "data": {
      "text/plain": [
       "False"
      ]
     },
     "execution_count": 9,
     "metadata": {},
     "output_type": "execute_result"
    }
   ],
   "source": [
    "date.strftime(\"%A\") == 'Saturday'"
   ]
  },
  {
   "cell_type": "code",
   "execution_count": 22,
   "id": "9001ada1-3e0c-425e-bdf1-ae931ce0c3c8",
   "metadata": {},
   "outputs": [
    {
     "name": "stdout",
     "output_type": "stream",
     "text": [
      "2021-10-28T10:12:00.000000000\n"
     ]
    }
   ],
   "source": [
    "\"\"\"\n",
    "Types Arrays of Times: Numpy's datetime64\n",
    "\"\"\"\n",
    "\n",
    "import numpy as np\n",
    "\n",
    "date = np.array(['2021-10-27','2021-10-28'], dtype=np.datetime64)\n",
    "type(date[0])\n",
    "\n",
    "date = np.datetime64('2021-10-28 10:12','ns')\n",
    "print(date)"
   ]
  },
  {
   "cell_type": "code",
   "execution_count": 17,
   "id": "176afa31-2a02-4fb1-ac24-fdc2825ce3f5",
   "metadata": {},
   "outputs": [
    {
     "data": {
      "text/plain": [
       "array(['2021-10-27', '2021-10-28', '2021-10-29', '2021-10-30',\n",
       "       '2021-10-31', '2021-11-01', '2021-11-02'], dtype='datetime64[D]')"
      ]
     },
     "execution_count": 17,
     "metadata": {},
     "output_type": "execute_result"
    }
   ],
   "source": [
    "date + np.arange(7)"
   ]
  },
  {
   "cell_type": "code",
   "execution_count": 26,
   "id": "e002dd6b-7813-4ef0-b424-2d2636c94070",
   "metadata": {},
   "outputs": [
    {
     "name": "stdout",
     "output_type": "stream",
     "text": [
      "2021-10-27 00:00:00\n"
     ]
    }
   ],
   "source": [
    "\"\"\"\n",
    "Dates and Times in Pandas\n",
    "\"\"\"\n",
    "\n",
    "import pandas as pd\n",
    "\n",
    "date = pd.to_datetime(\"27th of October, 2021\")\n",
    "print(date)"
   ]
  },
  {
   "cell_type": "code",
   "execution_count": 30,
   "id": "2b480203-3462-42ad-81da-dbe002e8f4dc",
   "metadata": {},
   "outputs": [
    {
     "name": "stdout",
     "output_type": "stream",
     "text": [
      "Wednesday\n"
     ]
    }
   ],
   "source": [
    "print(date.strftime('%A'))"
   ]
  },
  {
   "cell_type": "code",
   "execution_count": 33,
   "id": "a773fd07-8e98-42af-8dd9-86e9d2e7dd16",
   "metadata": {},
   "outputs": [
    {
     "data": {
      "text/plain": [
       "DatetimeIndex([          '2021-10-27 00:00:00',\n",
       "               '2021-10-27 00:00:00.000000001',\n",
       "               '2021-10-27 00:00:00.000000002',\n",
       "               '2021-10-27 00:00:00.000000003',\n",
       "               '2021-10-27 00:00:00.000000004',\n",
       "               '2021-10-27 00:00:00.000000005',\n",
       "               '2021-10-27 00:00:00.000000006',\n",
       "               '2021-10-27 00:00:00.000000007',\n",
       "               '2021-10-27 00:00:00.000000008',\n",
       "               '2021-10-27 00:00:00.000000009',\n",
       "               '2021-10-27 00:00:00.000000010',\n",
       "               '2021-10-27 00:00:00.000000011'],\n",
       "              dtype='datetime64[ns]', freq=None)"
      ]
     },
     "execution_count": 33,
     "metadata": {},
     "output_type": "execute_result"
    }
   ],
   "source": [
    "date + pd.to_timedelta(np.arange(12)) "
   ]
  },
  {
   "cell_type": "code",
   "execution_count": 39,
   "id": "a47a7062-c689-4aa8-8333-ca1fdace655e",
   "metadata": {},
   "outputs": [
    {
     "name": "stdout",
     "output_type": "stream",
     "text": [
      "DatetimeIndex(['2021-10-27', '2021-10-28', '2021-10-29', '2021-10-30',\n",
      "               '2021-10-31', '2021-11-01', '2021-11-02'],\n",
      "              dtype='datetime64[ns]', freq=None)\n",
      "2021-10-27    0\n",
      "2021-10-28    1\n",
      "2021-10-29    2\n",
      "2021-10-30    3\n",
      "2021-10-31    4\n",
      "2021-11-01    5\n",
      "2021-11-02    6\n",
      "dtype: int64\n"
     ]
    }
   ],
   "source": [
    "ind = pd.DatetimeIndex(['2021-10-27', '2021-10-28', '2021-10-29', '2021-10-30',\n",
    "'2021-10-31', '2021-11-01', '2021-11-02'])\n",
    "\n",
    "print(ind)\n",
    "\n",
    "ser = pd.Series([0, 1, 2, 3, 4, 5, 6], index=ind)\n",
    "print(ser)"
   ]
  },
  {
   "cell_type": "code",
   "execution_count": 42,
   "id": "4db37a11-c64e-47a7-a8ef-67c9ea8f8cd2",
   "metadata": {},
   "outputs": [
    {
     "data": {
      "text/plain": [
       "2021-10-27    0\n",
       "2021-10-28    1\n",
       "2021-10-29    2\n",
       "2021-10-30    3\n",
       "2021-10-31    4\n",
       "dtype: int64"
      ]
     },
     "execution_count": 42,
     "metadata": {},
     "output_type": "execute_result"
    }
   ],
   "source": [
    "ser['2021-10-27':'2021-10-31']"
   ]
  },
  {
   "cell_type": "code",
   "execution_count": 46,
   "id": "b00e87c0-8b52-4319-9dee-076f564fddda",
   "metadata": {},
   "outputs": [
    {
     "name": "stdout",
     "output_type": "stream",
     "text": [
      "DatetimeIndex(['2015-07-03', '2015-07-04', '2015-07-06', '2015-07-07',\n",
      "               '2015-07-08'],\n",
      "              dtype='datetime64[ns]', freq=None)\n"
     ]
    }
   ],
   "source": [
    "dates = pd.to_datetime([datetime(2015, 7, 3), \n",
    "                        \"4th of July, 2015\",\n",
    "                        '2015-Jul-6',\n",
    "                        '07-07-2015',\n",
    "                        '20150708'])\n",
    "\n",
    "print(dates)"
   ]
  },
  {
   "cell_type": "code",
   "execution_count": 51,
   "id": "bd4b618a-d30f-4594-a57b-ca1a003901f4",
   "metadata": {},
   "outputs": [
    {
     "data": {
      "text/plain": [
       "PeriodIndex(['2015-06-29/2015-07-05', '2015-06-29/2015-07-05',\n",
       "             '2015-07-06/2015-07-12', '2015-07-06/2015-07-12',\n",
       "             '2015-07-06/2015-07-12'],\n",
       "            dtype='period[W-SUN]', freq='W-SUN')"
      ]
     },
     "execution_count": 51,
     "metadata": {},
     "output_type": "execute_result"
    }
   ],
   "source": [
    "dates.to_period('W')\n"
   ]
  },
  {
   "cell_type": "code",
   "execution_count": 53,
   "id": "74ee4615-97aa-4aa4-99eb-1762bc214383",
   "metadata": {},
   "outputs": [
    {
     "data": {
      "text/plain": [
       "TimedeltaIndex(['0 days', '1 days', '3 days', '4 days', '5 days'], dtype='timedelta64[ns]', freq=None)"
      ]
     },
     "execution_count": 53,
     "metadata": {},
     "output_type": "execute_result"
    }
   ],
   "source": [
    "dates - dates[0]"
   ]
  },
  {
   "cell_type": "code",
   "execution_count": 55,
   "id": "412c9d7c-c869-40d1-949f-b3d02fc8a29b",
   "metadata": {},
   "outputs": [
    {
     "data": {
      "text/plain": [
       "DatetimeIndex(['2021-10-27', '2021-10-28', '2021-10-29', '2021-10-30',\n",
       "               '2021-10-31'],\n",
       "              dtype='datetime64[ns]', freq='D')"
      ]
     },
     "execution_count": 55,
     "metadata": {},
     "output_type": "execute_result"
    }
   ],
   "source": [
    "\"\"\"\n",
    "Regular Sequences\n",
    "\"\"\"\n",
    "\n",
    "pd.date_range('2021-10-27', '2021-10-31')"
   ]
  },
  {
   "cell_type": "code",
   "execution_count": 57,
   "id": "1c0fd042-cf05-4401-8b4a-936a83b007df",
   "metadata": {},
   "outputs": [
    {
     "data": {
      "text/plain": [
       "DatetimeIndex(['2021-10-27', '2021-10-28', '2021-10-29', '2021-10-30',\n",
       "               '2021-10-31'],\n",
       "              dtype='datetime64[ns]', freq='D')"
      ]
     },
     "execution_count": 57,
     "metadata": {},
     "output_type": "execute_result"
    }
   ],
   "source": [
    "pd.date_range('2021-10-27', periods=5)"
   ]
  },
  {
   "cell_type": "code",
   "execution_count": 59,
   "id": "d15da5e4-2ee4-42d8-a5de-71a06ad1a553",
   "metadata": {},
   "outputs": [
    {
     "data": {
      "text/plain": [
       "DatetimeIndex(['2021-10-27 00:00:00', '2021-10-27 01:00:00',\n",
       "               '2021-10-27 02:00:00', '2021-10-27 03:00:00',\n",
       "               '2021-10-27 04:00:00', '2021-10-27 05:00:00',\n",
       "               '2021-10-27 06:00:00', '2021-10-27 07:00:00',\n",
       "               '2021-10-27 08:00:00', '2021-10-27 09:00:00',\n",
       "               '2021-10-27 10:00:00', '2021-10-27 11:00:00'],\n",
       "              dtype='datetime64[ns]', freq='H')"
      ]
     },
     "execution_count": 59,
     "metadata": {},
     "output_type": "execute_result"
    }
   ],
   "source": [
    "pd.date_range('2021-10-27', periods=12, freq='H')"
   ]
  }
 ],
 "metadata": {
  "kernelspec": {
   "display_name": "Python 3",
   "language": "python",
   "name": "python3"
  },
  "language_info": {
   "codemirror_mode": {
    "name": "ipython",
    "version": 3
   },
   "file_extension": ".py",
   "mimetype": "text/x-python",
   "name": "python",
   "nbconvert_exporter": "python",
   "pygments_lexer": "ipython3",
   "version": "3.8.8"
  }
 },
 "nbformat": 4,
 "nbformat_minor": 5
}
