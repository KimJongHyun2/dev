{
 "cells": [
  {
   "cell_type": "code",
   "execution_count": 16,
   "id": "9e715c66-ae35-436b-9640-0151929c3454",
   "metadata": {},
   "outputs": [
    {
     "name": "stdout",
     "output_type": "stream",
     "text": [
      "4\n"
     ]
    },
    {
     "data": {
      "text/plain": [
       "2"
      ]
     },
     "execution_count": 16,
     "metadata": {},
     "output_type": "execute_result"
    }
   ],
   "source": [
    "\"\"\"\n",
    "Function VS Method\n",
    "\"\"\"\n",
    "\n",
    "def my_function(x):\n",
    "    return x+1\n",
    "    \n",
    "y = 3\n",
    "result = my_function(y)\n",
    "print(result)\n",
    "\n",
    "x = 1\n",
    "\n",
    "class my_class:\n",
    "    @staticmethod\n",
    "    def my_method(self):\n",
    "        return x+1\n",
    "\n",
    "cls = my_class()\n",
    "cls.my_method(5)"
   ]
  },
  {
   "cell_type": "code",
   "execution_count": 72,
   "id": "0c8c41f2-16a7-48f8-9f68-eadbc8ce9120",
   "metadata": {},
   "outputs": [
    {
     "name": "stdout",
     "output_type": "stream",
     "text": [
      "Hello everyone, my name is Jong Hyun Kim, I was born in 1985, and I live in Suwon.\n"
     ]
    }
   ],
   "source": [
    "\"\"\"\n",
    "Function Parameter\n",
    "\"\"\"\n",
    "\n",
    "def introduce_myself(name, birthyear, city): #parameter\n",
    "    print(\"Hello everyone, my name is %s, I was born in %d, and I live in %s.\" \n",
    "          % (name, birthyear, city))\n",
    "    \n",
    "introduce_myself(\"Jong Hyun Kim\", 1985, \"Suwon\") #argument\n"
   ]
  },
  {
   "cell_type": "code",
   "execution_count": 18,
   "id": "e977cf6f-401c-4fc8-b287-f0b66ba7b003",
   "metadata": {},
   "outputs": [],
   "source": [
    "\"\"\"\n",
    "Function Indentation\n",
    "\"\"\"\n",
    "\n",
    "def testfunction(number):\n",
    "    print(\"inside the testfunction\")\n",
    "    "
   ]
  },
  {
   "cell_type": "code",
   "execution_count": 71,
   "id": "2d0bdc97-b8ad-42a5-a6e3-402f40279d67",
   "metadata": {},
   "outputs": [
    {
     "data": {
      "text/plain": [
       "' 2021 not a leap year.'"
      ]
     },
     "execution_count": 71,
     "metadata": {},
     "output_type": "execute_result"
    }
   ],
   "source": [
    "\"\"\"\n",
    "Return Keyword\n",
    "\"\"\"\n",
    "\n",
    "# Leap Years = 윤년 (2월 29일)\n",
    "def check_leap_year(year):\n",
    "    if year % 4 == 0:\n",
    "        return \" %s is a leap year.\" %(year)\n",
    "    else:\n",
    "        return \" %s not a leap year.\" %(year)\n",
    "check_leap_year(2021)\n"
   ]
  },
  {
   "cell_type": "code",
   "execution_count": 33,
   "id": "11eaaaa6-0de4-43f9-910f-fa6b93777353",
   "metadata": {},
   "outputs": [
    {
     "name": "stdout",
     "output_type": "stream",
     "text": [
      "9 16 25\n"
     ]
    }
   ],
   "source": [
    "\"\"\"\n",
    "Returning Multiple Values\n",
    "\"\"\"\n",
    "\n",
    "def square_point(x, y, z):\n",
    "    x_squared = x ** 2\n",
    "    y_squared = y ** 2\n",
    "    z_squared = z ** 2\n",
    "    return x_squared, y_squared, z_squared\n",
    "\n",
    "three_squared, four_squared, five_squared = square_point(3, 4, 5)\n",
    "print(three_squared, four_squared, five_squared)"
   ]
  },
  {
   "cell_type": "code",
   "execution_count": 46,
   "id": "3854c4d3-f828-4aa3-873d-0a8b09fcdfb2",
   "metadata": {},
   "outputs": [],
   "source": [
    "\"\"\"\n",
    "Global Variables\n",
    "\"\"\"\n",
    "\n",
    "a = \"Hello\" # global var\n",
    "\n",
    "def prints_a():\n",
    "    print(a)\n"
   ]
  },
  {
   "cell_type": "code",
   "execution_count": 49,
   "id": "321d9cef-f16c-460e-91d0-58549b309d5b",
   "metadata": {},
   "outputs": [
    {
     "name": "stdout",
     "output_type": "stream",
     "text": [
      "2\n"
     ]
    }
   ],
   "source": [
    "\"\"\"\n",
    "Local Variables\n",
    "\"\"\"\n",
    "\n",
    "b=2 # global var.\n",
    "\n",
    "def f1():\n",
    "    a = 2 # Local var.\n",
    "    print(b)\n",
    "\n",
    "f1()"
   ]
  },
  {
   "cell_type": "code",
   "execution_count": 55,
   "id": "55a4339f-9f4d-4dc8-95de-42533b6459bd",
   "metadata": {},
   "outputs": [
    {
     "name": "stdout",
     "output_type": "stream",
     "text": [
      "Height = 1\n",
      "Width = 2\n",
      "Depth = 3\n",
      "6\n"
     ]
    }
   ],
   "source": [
    "\"\"\"\n",
    "Keyword Arguments and Default Values\n",
    "\"\"\"\n",
    "\n",
    "def findvolume(height, width, depth):\n",
    "    print(\"Height = %s\" %(height))\n",
    "    print(\"Width = %s\"  %(width))\n",
    "    print(\"Depth = %s\" %(depth))\n",
    "    return height * width * depth;\n",
    "\n",
    "print (findvolume(width=2, height=1, depth=3))"
   ]
  }
 ],
 "metadata": {
  "kernelspec": {
   "display_name": "Python 3",
   "language": "python",
   "name": "python3"
  },
  "language_info": {
   "codemirror_mode": {
    "name": "ipython",
    "version": 3
   },
   "file_extension": ".py",
   "mimetype": "text/x-python",
   "name": "python",
   "nbconvert_exporter": "python",
   "pygments_lexer": "ipython3",
   "version": "3.8.8"
  }
 },
 "nbformat": 4,
 "nbformat_minor": 5
}
