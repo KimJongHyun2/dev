{
 "cells": [
  {
   "cell_type": "code",
   "execution_count": 22,
   "id": "7869db4a-2329-411a-8e26-b40ede9a6ba0",
   "metadata": {},
   "outputs": [
    {
     "name": "stdout",
     "output_type": "stream",
     "text": [
      "Hello World!\n",
      "100\n",
      "3.14\n",
      "My name is Jong Hyun Kim?\n"
     ]
    }
   ],
   "source": [
    "\"\"\"\n",
    "print() function\n",
    "\"\"\"\n",
    "\n",
    "print(\"Hello World!\")\n",
    "print(100)\n",
    "pi = 3.14\n",
    "print(pi)\n",
    "\n",
    "intro = \"My name is \"\n",
    "name = \"Jong Hyun Kim\"\n",
    "\n",
    "print(intro + name + \"?\")"
   ]
  },
  {
   "cell_type": "code",
   "execution_count": 25,
   "id": "21f39a5b-fbb0-40aa-b7e5-c8a15eb58390",
   "metadata": {},
   "outputs": [],
   "source": [
    "\"\"\"\n",
    "Variables\n",
    "\"\"\"\n",
    "\n",
    "user_name = \"Jong Hyun Kim\"\n",
    "user_id = 202055014\n",
    "user_email = \"poreer0597@hs.ac.kr\"\n",
    "is_student = True\n",
    "\n",
    "\n",
    "# 본인을 표현할 수 있는 세 가지 이상의 정보를 변수로 정의하시오\n",
    "\n",
    "user_name = \"Jong Hyun Kim\"\n",
    "user_height = 177\n",
    "user_bloodtype = \"A\""
   ]
  },
  {
   "cell_type": "code",
   "execution_count": 28,
   "id": "d57e6c8d-9ba6-4e84-a4ab-43a001744f6a",
   "metadata": {},
   "outputs": [],
   "source": [
    "\"\"\"\n",
    "Data Types : Integers\n",
    "\"\"\"\n",
    "\n",
    "chairs = 4\n",
    "tables = 1\n",
    "broken_chairs = -2\n",
    "sofas = 0\n",
    "\n",
    "# 본인의 집에 있는 사물의 개수를 정수 유형의 변수로 정의하시오(세 가지 이상)\n",
    "\n",
    "computer = 1\n",
    "television = 2\n",
    "refrigerator = 2"
   ]
  },
  {
   "cell_type": "code",
   "execution_count": 30,
   "id": "d533f23f-2953-41bf-a66b-fbc428d553cc",
   "metadata": {},
   "outputs": [],
   "source": [
    "\"\"\"\n",
    "Data Types : Real Number\n",
    "\"\"\"\n",
    "\n",
    "PI = 3.14\n",
    "kospi_index = 3125.76\n",
    "krw_usd_exchange = 1176.83\n",
    "\n",
    "# 본인이 알고 있는 실수를 변수로 정의하시오 (세 가지 이상)\n",
    "\n",
    "PI = 3.14159265359\n",
    "marathon_distance = 42.195\n",
    "krw_jpy_exchange = 1069.06"
   ]
  },
  {
   "cell_type": "code",
   "execution_count": 34,
   "id": "045f8cad-9cdd-4eaa-abea-86abfb064273",
   "metadata": {},
   "outputs": [
    {
     "name": "stdout",
     "output_type": "stream",
     "text": [
      "Tottenham Hotspur , Valorant, Coca-Cola.\n"
     ]
    }
   ],
   "source": [
    "\"\"\"\n",
    "Data Types : Strings\n",
    "\"\"\"\n",
    "favorite_motto = \"Chance favors the prepared mind\"\n",
    "favorite_game = \"Elder scrolls\"\n",
    "favorite_athlete = \"Sonny\"\n",
    "\n",
    "# 본인의 좋아하는 것들을 문자열 변수로 정의하시오.\n",
    "\n",
    "favorite_team = \"Tottenham Hotspur\"\n",
    "favorite_game = \"Valorant\"\n",
    "favorite_drink = \"Coca-Cola\"\n",
    " \n",
    "favorites = favorite_team + \" , \" + favorite_game + \", \" + favorite_drink + \".\"\n",
    "print(favorites)  "
   ]
  },
  {
   "cell_type": "code",
   "execution_count": 38,
   "id": "31eb6ef6-acb8-4836-aa92-14f7d8a139ed",
   "metadata": {},
   "outputs": [
    {
     "name": "stdout",
     "output_type": "stream",
     "text": [
      "64\n"
     ]
    }
   ],
   "source": [
    "\"\"\"\n",
    "Plus-Equals Operations\n",
    "\"\"\"\n",
    "\n",
    "a = 8\n",
    "a **= 2\n",
    "print(a)"
   ]
  },
  {
   "cell_type": "code",
   "execution_count": 1,
   "id": "4a8c8ca4-37ab-42f3-b336-40ab54a6622f",
   "metadata": {},
   "outputs": [
    {
     "ename": "NameError",
     "evalue": "name 'my_school' is not defined",
     "output_type": "error",
     "traceback": [
      "\u001b[1;31m---------------------------------------------------------------------------\u001b[0m",
      "\u001b[1;31mNameError\u001b[0m                                 Traceback (most recent call last)",
      "\u001b[1;32m<ipython-input-1-d9adbd1a01f7>\u001b[0m in \u001b[0;36m<module>\u001b[1;34m\u001b[0m\n\u001b[0;32m      5\u001b[0m \u001b[1;31m# Name Errors\u001b[0m\u001b[1;33m\u001b[0m\u001b[1;33m\u001b[0m\u001b[1;33m\u001b[0m\u001b[0m\n\u001b[0;32m      6\u001b[0m \u001b[1;33m\u001b[0m\u001b[0m\n\u001b[1;32m----> 7\u001b[1;33m \u001b[0mprint\u001b[0m\u001b[1;33m(\u001b[0m\u001b[0mmy_school\u001b[0m\u001b[1;33m)\u001b[0m\u001b[1;33m\u001b[0m\u001b[1;33m\u001b[0m\u001b[0m\n\u001b[0m\u001b[0;32m      8\u001b[0m \u001b[0mmy_school\u001b[0m \u001b[1;33m=\u001b[0m \u001b[1;34m\"HSU\"\u001b[0m\u001b[1;33m\u001b[0m\u001b[1;33m\u001b[0m\u001b[0m\n\u001b[0;32m      9\u001b[0m \u001b[0mprint\u001b[0m\u001b[1;33m(\u001b[0m\u001b[0mmy_university\u001b[0m\u001b[1;33m)\u001b[0m\u001b[1;33m\u001b[0m\u001b[1;33m\u001b[0m\u001b[0m\n",
      "\u001b[1;31mNameError\u001b[0m: name 'my_school' is not defined"
     ]
    }
   ],
   "source": [
    "\"\"\"\n",
    "Errors\n",
    "\"\"\"\n",
    "\n",
    "# Name Errors\n",
    "\n",
    "print(my_school)\n",
    "my_school = \"HSU\"\n",
    "print(my_university)\n",
    "\n",
    "# 순서가 맞지 않거나 정의되지 않은 것을 실행시키면 오류 발생."
   ]
  },
  {
   "cell_type": "code",
   "execution_count": 2,
   "id": "9c77a245-2ded-482a-bce3-454358c95d39",
   "metadata": {},
   "outputs": [],
   "source": [
    "x = 1"
   ]
  },
  {
   "cell_type": "code",
   "execution_count": 4,
   "id": "653b98e9-0109-46ce-8a5f-72387176623e",
   "metadata": {},
   "outputs": [],
   "source": [
    "x = 1\n",
    "# shift + tab = 코드 설명 \n",
    "# tab = 들여쓰기\n",
    "# esc = 명령어모드\n",
    "# m = 마크다운(문서형태)"
   ]
  },
  {
   "cell_type": "markdown",
   "id": "88fb82a5-2b75-41c4-9d35-d7fd49f221cf",
   "metadata": {},
   "source": [
    "# 레벨 1\n",
    "## 레벨 2\n",
    "다음의 코드는 무엇을 실행합니다.\n"
   ]
  },
  {
   "cell_type": "code",
   "execution_count": null,
   "id": "bb5c00b9-4bfc-4946-b128-f33b5a8063a5",
   "metadata": {},
   "outputs": [],
   "source": []
  }
 ],
 "metadata": {
  "kernelspec": {
   "display_name": "Python 3",
   "language": "python",
   "name": "python3"
  },
  "language_info": {
   "codemirror_mode": {
    "name": "ipython",
    "version": 3
   },
   "file_extension": ".py",
   "mimetype": "text/x-python",
   "name": "python",
   "nbconvert_exporter": "python",
   "pygments_lexer": "ipython3",
   "version": "3.8.8"
  }
 },
 "nbformat": 4,
 "nbformat_minor": 5
}
